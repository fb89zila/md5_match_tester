{
  "cells": [
    {
      "cell_type": "markdown",
      "metadata": {
        "colab_type": "text",
        "id": "view-in-github"
      },
      "source": [
        "<a href=\"https://colab.research.google.com/github/fb89zila/md5_match_tester/blob/master/MD5_Tester.ipynb\" target=\"_parent\"><img src=\"https://colab.research.google.com/assets/colab-badge.svg\" alt=\"Open In Colab\"/></a>"
      ]
    },
    {
      "cell_type": "markdown",
      "metadata": {
        "id": "6khd_hnrkeU9"
      },
      "source": [
        "# MD5 collision testing\n",
        "\n",
        "The goal is to search for the longest possible connected match of two md5-hashes by simply comparing two md5-hashes of random strings."
      ]
    },
    {
      "cell_type": "markdown",
      "metadata": {
        "id": "LM2ovARkn_r0"
      },
      "source": [
        "### Code for testing\n",
        "\n",
        "The matches are only counted from the front of the hash until they differ."
      ]
    },
    {
      "cell_type": "code",
      "execution_count": 1,
      "metadata": {
        "colab": {
          "base_uri": "https://localhost:8080/"
        },
        "id": "CLoDNyjglvZX",
        "outputId": "3c9ff087-5f08-46b1-8065-297e9e967264"
      },
      "outputs": [],
      "source": [
        "# importing libs\n",
        "#from google.colab import drive\n",
        "import sys\n",
        "import threading\n",
        "import multiprocessing as multiproc\n",
        "from multiprocessing import Pool\n",
        "import hashlib as hash\n",
        "import random as rand\n",
        "import pandas as pd\n",
        "import string\n",
        "\n",
        "# mount google drive for csv export\n",
        "#drive.mount('/drive')\n",
        "#csv_path = '/drive/My Drive/ColabNotebooks/out_files/MD5-Tester.csv'\n",
        "\n",
        "# definitions\n",
        "NUM_OF_THREADS = 10                                   # number of threads used for the calculation of the md5-hashes\n",
        "NUM_OF_CORES = multiproc.cpu_count()                  # for multiprocessing\n",
        "CHARACTERS = string.ascii_letters.join(string.digits) # used characters for random strings\n",
        "STRING_LENGTH1 = 10                                   # length of random string 1\n",
        "STRING_LENGTH2 = 10                                   # length of random string 2\n",
        "ROUNDS = 1000000                                      # number of pairs of strings to be compared\n",
        "MIN_NUM_OF_MATCHES = 5                                # minimum of matches a pair of string needs to be added to the dataframe"
      ]
    },
    {
      "cell_type": "markdown",
      "metadata": {
        "id": "mgFT5qX4ofdv"
      },
      "source": [
        "The definitions can be adjusted  \n",
        "> be aware that with my default values (string lengths 10, `ROUNDS = 100000000`) the execution takes around 17 minutes.  \n",
        "Right now, there is no difference in time when using multithreading/-processing because I can't find any help on how to reliably implement the usage of GPU for multiprocessing in Colab."
      ]
    },
    {
      "cell_type": "code",
      "execution_count": 2,
      "metadata": {
        "id": "iROvFU8Xl3pc"
      },
      "outputs": [],
      "source": [
        "def rand_str(length: int) -> str:\n",
        "  \"\"\"\n",
        "  Generates a random string.  \n",
        "\n",
        "  Args:\n",
        "    length: length of the random string\n",
        "  Returns:\n",
        "    random string\n",
        "  \"\"\"\n",
        "  return ''.join(rand.choices(CHARACTERS, k=length))"
      ]
    },
    {
      "cell_type": "code",
      "execution_count": 3,
      "metadata": {
        "id": "7En8hR6D7SCT"
      },
      "outputs": [],
      "source": [
        "def test_md5():\n",
        "  \"\"\"\n",
        "  Generate md5-hashes of two random strings and compares them.\n",
        "\n",
        "  Returns:\n",
        "    tuple: contains match length, string pair and hash pair.\n",
        "    None: returned if match length was smaller than `MIN_NUM_OF_MATCHES`\n",
        "  \"\"\"\n",
        "  str1 = rand_str(STRING_LENGTH1)\n",
        "  str2 = rand_str(STRING_LENGTH2)\n",
        "  md5_hash1 = hash.md5(str1.encode('utf-8')).hexdigest()\n",
        "  md5_hash2 = hash.md5(str2.encode('utf-8')).hexdigest()\n",
        "\n",
        "  prefix_matches = 0\n",
        "\n",
        "  for i in range(len(md5_hash1)):\n",
        "    if md5_hash1[i] != md5_hash2[i]:\n",
        "      break\n",
        "    prefix_matches += 1\n",
        "    \n",
        "  if prefix_matches >= MIN_NUM_OF_MATCHES:\n",
        "    return prefix_matches, str1, str2, md5_hash1, md5_hash2\n",
        "  else:\n",
        "    return None"
      ]
    },
    {
      "cell_type": "code",
      "execution_count": 4,
      "metadata": {
        "id": "GQb0Tm-Y8WYp"
      },
      "outputs": [],
      "source": [
        "def run_md5_tests(res):\n",
        "  \"\"\"\n",
        "  Tests `ROUNDS` pairs of strings if they have (partially) matching md5-hashes.\n",
        "\n",
        "  Args:\n",
        "    res - List used to append test results \n",
        "  \"\"\"\n",
        "  \n",
        "  for a in range(ROUNDS):\n",
        "    if (a % (ROUNDS/100)) == 0:\n",
        "      print('[progress: ' + str(int(a*100/ROUNDS)) + '%]')\n",
        "      # print('[' + threading.current_thread().getName() + ' - progress: ' + str(int(a*100/ROUNDS)) + '%]')\n",
        "      # print('[' + multiproc.current_process().name + ' - progress: ' + str(int(a*100/ROUNDS)) + '%]')\n",
        "\n",
        "    test_result = test_md5()\n",
        "    if test_result != None:\n",
        "      res.append(test_result)\n",
        "  print('[progress: 100%]')\n",
        "  # print('[' + threading.current_thread().getName() + ' - progress: 100%]')\n",
        "  # print('[' + multiproc.current_process().name + ' - progress: 100%]')"
      ]
    },
    {
      "cell_type": "code",
      "execution_count": 5,
      "metadata": {
        "id": "SuCt99u0vxQJ"
      },
      "outputs": [],
      "source": [
        "def threading_func(res):\n",
        "  \"\"\"\n",
        "  Create threads to run multiple tests.\n",
        "\n",
        "  Args:\n",
        "    res - List used to append test results\n",
        "  \"\"\"\n",
        "  jobs = []\n",
        "  for _ in range(NUM_OF_THREADS):\n",
        "    t = threading.Thread(target=run_md5_tests, args=(res,))\n",
        "    t.setDaemon(True)\n",
        "    jobs.append(t)\n",
        "  \n",
        "  for i in range(NUM_OF_THREADS):\n",
        "    jobs[i].start()\n",
        "\n",
        "  for i in range(NUM_OF_THREADS):\n",
        "    jobs[i].join()"
      ]
    },
    {
      "cell_type": "code",
      "execution_count": 6,
      "metadata": {
        "id": "0eOAoRGMOI0H"
      },
      "outputs": [],
      "source": [
        "def multiprocess_func(res):\n",
        "  \"\"\"\n",
        "  `NOT WORKING`\n",
        "  Create multiprocessing pool to run multiple tests.\n",
        "\n",
        "  Args:\n",
        "    res - List used to append test results\n",
        "  \"\"\"\n",
        "  with Pool(NUM_OF_CORES) as p:\n",
        "    for i in range(ROUNDS):\n",
        "      p.apply_async(run_md5_tests, (res,))\n",
        "      \n",
        "    p.close()\n",
        "    p.join()"
      ]
    },
    {
      "cell_type": "code",
      "execution_count": 7,
      "metadata": {
        "id": "CHlWzzYOnBzM"
      },
      "outputs": [],
      "source": [
        "# main method initializes random generator, starts tests and displays result\n",
        "def main():\n",
        "  \"\"\"\n",
        "  Initializes random generator, starts tests and displays (and saves) results.\n",
        "  \"\"\"\n",
        "  rand.seed()\n",
        "  results = []\n",
        "\n",
        "  df_columns_list = ['matches', 'string 1', 'string 2', 'md5-hash 1', 'md5-hash 2']\n",
        "\n",
        "  run_md5_tests(results)\n",
        "  # threading_func(results)\n",
        "  # multiprocess_func(results)\n",
        "\n",
        "  df = pd.DataFrame(results, columns=df_columns_list)\n",
        "\n",
        "  df = df.sort_values(by='matches', ascending=False)\n",
        "\n",
        "  display(df)\n",
        "\n",
        "  # saves df as csv-file in my drive (needs authentication)\n",
        "  #df.to_csv(csv_path, index=False)"
      ]
    },
    {
      "cell_type": "code",
      "execution_count": 8,
      "metadata": {
        "colab": {
          "base_uri": "https://localhost:8080/",
          "height": 1000
        },
        "id": "fj5CWE2IbjGf",
        "outputId": "9b739569-9052-47f5-f33d-6de5aaf9413c"
      },
      "outputs": [
        {
          "name": "stdout",
          "output_type": "stream",
          "text": [
            "[progress: 0%]\n",
            "[progress: 1%]\n",
            "[progress: 2%]\n",
            "[progress: 3%]\n",
            "[progress: 4%]\n",
            "[progress: 5%]\n",
            "[progress: 6%]\n",
            "[progress: 7%]\n",
            "[progress: 8%]\n",
            "[progress: 9%]\n",
            "[progress: 10%]\n",
            "[progress: 11%]\n",
            "[progress: 12%]\n",
            "[progress: 13%]\n",
            "[progress: 14%]\n",
            "[progress: 15%]\n",
            "[progress: 16%]\n",
            "[progress: 17%]\n",
            "[progress: 18%]\n",
            "[progress: 19%]\n",
            "[progress: 20%]\n",
            "[progress: 21%]\n",
            "[progress: 22%]\n",
            "[progress: 23%]\n",
            "[progress: 24%]\n",
            "[progress: 25%]\n",
            "[progress: 26%]\n",
            "[progress: 27%]\n",
            "[progress: 28%]\n",
            "[progress: 29%]\n",
            "[progress: 30%]\n",
            "[progress: 31%]\n",
            "[progress: 32%]\n",
            "[progress: 33%]\n",
            "[progress: 34%]\n",
            "[progress: 35%]\n",
            "[progress: 36%]\n",
            "[progress: 37%]\n",
            "[progress: 38%]\n",
            "[progress: 39%]\n",
            "[progress: 40%]\n",
            "[progress: 41%]\n",
            "[progress: 42%]\n",
            "[progress: 43%]\n",
            "[progress: 44%]\n",
            "[progress: 45%]\n",
            "[progress: 46%]\n",
            "[progress: 47%]\n",
            "[progress: 48%]\n",
            "[progress: 49%]\n",
            "[progress: 50%]\n",
            "[progress: 51%]\n",
            "[progress: 52%]\n",
            "[progress: 53%]\n",
            "[progress: 54%]\n",
            "[progress: 55%]\n",
            "[progress: 56%]\n",
            "[progress: 57%]\n",
            "[progress: 58%]\n",
            "[progress: 59%]\n",
            "[progress: 60%]\n",
            "[progress: 61%]\n",
            "[progress: 62%]\n",
            "[progress: 63%]\n",
            "[progress: 64%]\n",
            "[progress: 65%]\n",
            "[progress: 66%]\n",
            "[progress: 67%]\n",
            "[progress: 68%]\n",
            "[progress: 69%]\n",
            "[progress: 70%]\n",
            "[progress: 71%]\n",
            "[progress: 72%]\n",
            "[progress: 73%]\n",
            "[progress: 74%]\n",
            "[progress: 75%]\n",
            "[progress: 76%]\n",
            "[progress: 77%]\n",
            "[progress: 78%]\n",
            "[progress: 79%]\n",
            "[progress: 80%]\n",
            "[progress: 81%]\n",
            "[progress: 82%]\n",
            "[progress: 83%]\n",
            "[progress: 84%]\n",
            "[progress: 85%]\n",
            "[progress: 86%]\n",
            "[progress: 87%]\n",
            "[progress: 88%]\n",
            "[progress: 89%]\n",
            "[progress: 90%]\n",
            "[progress: 91%]\n",
            "[progress: 92%]\n",
            "[progress: 93%]\n",
            "[progress: 94%]\n",
            "[progress: 95%]\n",
            "[progress: 96%]\n",
            "[progress: 97%]\n",
            "[progress: 98%]\n",
            "[progress: 99%]\n",
            "[progress: 100%]\n"
          ]
        },
        {
          "data": {
            "text/html": [
              "<div>\n",
              "<style scoped>\n",
              "    .dataframe tbody tr th:only-of-type {\n",
              "        vertical-align: middle;\n",
              "    }\n",
              "\n",
              "    .dataframe tbody tr th {\n",
              "        vertical-align: top;\n",
              "    }\n",
              "\n",
              "    .dataframe thead th {\n",
              "        text-align: right;\n",
              "    }\n",
              "</style>\n",
              "<table border=\"1\" class=\"dataframe\">\n",
              "  <thead>\n",
              "    <tr style=\"text-align: right;\">\n",
              "      <th></th>\n",
              "      <th>matches</th>\n",
              "      <th>string 1</th>\n",
              "      <th>string 2</th>\n",
              "      <th>md5-hash 1</th>\n",
              "      <th>md5-hash 2</th>\n",
              "    </tr>\n",
              "  </thead>\n",
              "  <tbody>\n",
              "    <tr>\n",
              "      <th>0</th>\n",
              "      <td>5</td>\n",
              "      <td>DmSvyhBQsx</td>\n",
              "      <td>uwzXxilqHj</td>\n",
              "      <td>9e961969b9dd3bf8954320408a360398</td>\n",
              "      <td>9e961fc10ce39bc5b60a6d9839ff97c4</td>\n",
              "    </tr>\n",
              "  </tbody>\n",
              "</table>\n",
              "</div>"
            ],
            "text/plain": [
              "   matches    string 1    string 2                        md5-hash 1  \\\n",
              "0        5  DmSvyhBQsx  uwzXxilqHj  9e961969b9dd3bf8954320408a360398   \n",
              "\n",
              "                         md5-hash 2  \n",
              "0  9e961fc10ce39bc5b60a6d9839ff97c4  "
            ]
          },
          "metadata": {},
          "output_type": "display_data"
        }
      ],
      "source": [
        "# entry point\n",
        "if __name__ == '__main__':\n",
        "    main()"
      ]
    }
  ],
  "metadata": {
    "colab": {
      "collapsed_sections": [],
      "include_colab_link": true,
      "name": "MD5-Tester.ipynb",
      "provenance": []
    },
    "kernelspec": {
      "display_name": "Python 3",
      "name": "python3"
    },
    "language_info": {
      "name": "python"
    }
  },
  "nbformat": 4,
  "nbformat_minor": 0
}
